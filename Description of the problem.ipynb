{
 "cells": [
  {
   "cell_type": "markdown",
   "metadata": {},
   "source": [
    "<h1 align=center><font size = 5>Attractions in Ahmedabad City, Gujrat, India</font></h1>"
   ]
  },
  {
   "cell_type": "markdown",
   "metadata": {},
   "source": [
    "# Table of Contents\n",
    "\n",
    "1. <a href=\"#item1\">Introduction</a>\n",
    "2. <a href=\"#item2\">Data Collection using Foursquare API</a>  \n",
    "3. <a href=\"#item3\">Data Cleaning</a>  \n",
    "4. <a href=\"#item4\">Methodology</a>  \n",
    "5. <a href=\"#item5\">Analysis & Result</a>  \n",
    "6. <a href=\"#item5\">Conclusion</a>  "
   ]
  },
  {
   "cell_type": "markdown",
   "metadata": {},
   "source": [
    "## Introduction\n",
    "\n",
    "Ahmedabad is the largest city and former capital of the Indian state of Gujarat. It has emerged as an important economic and industrial hub in India. It is the second-largest producer of cotton in India, and its stock exchange is the country's second oldest. Cricket is a popular sport in Ahmedabad. It is a major tourist attraction.\n",
    "\n",
    "Whenever a user is visiting a city they start looking for places to visit during their stay. They primarily look for places based on the venue ratings across all venues and the average prices such that the locations fits in their budget.\n",
    "\n",
    "##### The aim of the project is to identify venues in Ahmedabad, India based on their rating and average prices. "
   ]
  },
  {
   "cell_type": "markdown",
   "metadata": {},
   "source": [
    "https://github.com/kb22/Coursera_Capstone/blob/master/Exploring%20venues%20in%20Chandigarh.ipynb\n",
    "\n",
    "https://github.com/mferle/Coursera_Capstone/blob/master/Coursera_Capstone_Battle_of_Neighborhoods.ipynb"
   ]
  },
  {
   "cell_type": "markdown",
   "metadata": {},
   "source": [
    "#### Description of the Problem\n",
    "\n",
    "To start a new venture in a city, it is important to first identify the places which can draw maximum customers.\n",
    "Here, we'll identify places that are frequented most by the visitors based on the information collected from Foursquare API and Data Science. Once we have the plot with the venues, any company can launch an application using the same data and suggest users such information."
   ]
  },
  {
   "cell_type": "code",
   "execution_count": null,
   "metadata": {},
   "outputs": [],
   "source": []
  }
 ],
 "metadata": {
  "kernelspec": {
   "display_name": "Python",
   "language": "python",
   "name": "conda-env-python-py"
  },
  "language_info": {
   "codemirror_mode": {
    "name": "ipython",
    "version": 3
   },
   "file_extension": ".py",
   "mimetype": "text/x-python",
   "name": "python",
   "nbconvert_exporter": "python",
   "pygments_lexer": "ipython3",
   "version": "3.6.10"
  }
 },
 "nbformat": 4,
 "nbformat_minor": 4
}
